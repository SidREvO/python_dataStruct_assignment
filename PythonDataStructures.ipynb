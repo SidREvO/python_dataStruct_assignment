{
  "nbformat": 4,
  "nbformat_minor": 0,
  "metadata": {
    "colab": {
      "provenance": []
    },
    "kernelspec": {
      "name": "python3",
      "display_name": "Python 3"
    },
    "language_info": {
      "name": "python"
    }
  },
  "cells": [
    {
      "cell_type": "markdown",
      "source": [
        "#Python Data Structures\n"
      ],
      "metadata": {
        "id": "l5OPmV-pOfbb"
      }
    },
    {
      "cell_type": "markdown",
      "source": [
        "1. What are data structures, and why are they important?\n",
        "   - Data structures are ways to organize, manage, and store data efficiently for various operations. In Python, they are essential because they determine how data is stored, accessed, and manipulated, significantly impacting the performance of your program.\n",
        "   Importance are:\n",
        "   1. Efficiency: Different data structures optimize different operations  \n",
        "      (e.g., searching, inserting, deleting).\n",
        "\n",
        "   2. Organization: They help manage large volumes of data efficiently.\n",
        "\n",
        "   3. Code Clarity: Using the appropriate data structure makes the code\n",
        "      more readable and maintainable.\n",
        "\n",
        "   4. Algorithm Implementation: Many algorithms are designed for specific\n",
        "      data structures (e.g., binary search on a sorted list).\n",
        "\n",
        "   5. Memory Management: Some structures are more memory-efficient than\n",
        "      others.\n",
        "\n",
        "2. Explain the difference between mutable and immutable data types with    \n",
        "   examples?\n",
        "   - i) Modifiability:\n",
        "        Mutable: Can change after creation. Example:\n",
        "            my_list = [1, 2, 3]\n",
        "            my_list[0] = 10  # Changing the first element\n",
        "            print(my_list)  # Output: [10, 2, 3]\n",
        "        \n",
        "        Immutable: Cannot change after creation. Example:\n",
        "            my_tuple = (1, 2, 3)\n",
        "            my_tuple[0] = 10  # Raises a TypeError\n",
        "            print(my_tuple)  # Output: (1, 2, 3)\n",
        "\n",
        "     ii)Examples:\n",
        "        Mutable: Lists, Dictionaries, Sets. Example:\n",
        "            my_dict = {\"name\": \"Alice\", \"age\": 25}\n",
        "            my_dict[\"age\"] = 30  # Updating the value\n",
        "            print(my_dict)  # Output: {'name': 'Alice', 'age': 30}\n",
        "        \n",
        "        Immutable: Strings, Tuples, Integers, Floats. Example:\n",
        "            num = 5\n",
        "            num = num + 1  # Creates a new integer object\n",
        "            print(num)  # Output: 6\n",
        "\n",
        "     iii)Memory Efficiency:\n",
        "         Mutable: Modifies the existing object in place. Example:\n",
        "              my_set = {1, 2, 3}\n",
        "              my_set.add(4)  # Adding a new element\n",
        "              print(my_set)  # Output: {1, 2, 3, 4}\n",
        "\n",
        "         Immutable: Creates a new object when changed. Example:\n",
        "            my_str = \"hello\"\n",
        "            my_str = my_str.replace(\"h\", \"j\")  # Creates a new string\n",
        "            print(my_str)  # Output: \"jello\"\n",
        "     \n",
        "      iv)More points:\n",
        "         Mutable: Dictionaries: Dictionaries store data in key-value pairs, and their contents can be changed. Example:\n",
        "             my_dict = {\"name\": \"Alice\", \"age\": 30}\n",
        "             my_dict[\"age\"] = 31    # Modify an existing value\n",
        "             my_dict[\"city\"] = \"Bangalore\" # Add a new key-value pair\n",
        "             print(my_dict)  # Output: {'name': 'Alice', 'age': 31, 'city': 'Bangalore'}\n",
        "\n",
        "         Imutable: Numbers (int, float, complex): Numbers are fundamental data types that cannot be changed once created. Example:\n",
        "              my_int = 5\n",
        "              # my_int = 6  # This creates a new integer, not modifies the old one\n",
        "              new_int = my_int + 1\n",
        "              print(new_int)  # Output: 6\n",
        "\n",
        "\n",
        "3. What are the main differences between lists and tuples in Python?\n",
        "   - i)\tLists are mutable(can be modified).\n",
        "      \tTuples are immutable(cannot be modified).\n",
        "     ii)Iteration over lists is time-consuming in lists.\n",
        "       \tIterations over tuple is faster in tuples.\n",
        "     iii)Lists are better for performing operations, such as insertion and\n",
        "         deletion.\n",
        "         Tuples are more suitable for accessing elements efficiently.\n",
        "      iv)Lists consume more memory.\tTuples consumes less memory.\n",
        "      v) Lists have several built-in methods.\tTuples have fewer built-in\n",
        "         methods.\n",
        "      vi) example:\n",
        "          my_list = [1, 2, 3]\n",
        "          my_tuple = (1, 2, 3)\n",
        "          my_list.append(4)  # Allowed\n",
        "          # my_tuple.append(4)  # Error: 'tuple' object has no attribute 'append'\n",
        "          my_list[0] = 10  # Allowed\n",
        "           my_tuple[0] = 10  # Error: 'tuple' object does not support item assignment\n",
        "\n",
        "4. Describe how dictionaries store data.\n",
        "   - Dictionaries in Python store data as key-value pairs. Each key within\n",
        "     a dictionary must be unique and immutable (e.g., strings, numbers, or tuples), while the associated value can be of any data type and mutable. The key acts as an identifier, allowing for efficient retrieval of its corresponding value.\n",
        "      When a key-value pair is added to a dictionary, Python uses a hashing function to calculate the memory location for that key. This hash value determines where the key-value pair will be stored within the dictionary's underlying data structure, which is essentially a hash table. This mechanism enables fast lookups, insertions, and deletions, as the location of a key can be quickly determined using its hash value.\n",
        "      Dictionaries are unordered collections, meaning that the items do not have a defined order. If the order of insertion is important, consider using an OrderedDict (from the collections module) or, in Python 3.7+, regular dictionaries maintain insertion order.\n",
        "\n",
        "5. Why might you use a set instead of a list in Python?\n",
        "   - Ensuring uniqueness:\n",
        "     Sets, by definition, only store unique elements. If you need to eliminate duplicates from a collection of items, converting it to a set is an efficient way to do so. Lists, on the other hand, allow duplicate values.\n",
        "     Fast membership testing:\n",
        "     Checking if an element exists within a set is significantly faster than doing the same in a list. Sets use a hash table implementation, allowing for near-constant time complexity (O(1)) for membership tests, while lists require linear search (O(n)).\n",
        "     Set operations:\n",
        "     Sets provide built-in operations like union, intersection, and difference, which are useful for tasks involving comparing and combining collections of unique elements. These operations are not directly available for lists.\n",
        "     Unordered collection:\n",
        "     If the order of elements doesn't matter, a set can be a more appropriate choice than a list. Sets do not preserve the insertion order of elements.\n",
        "     Some examplesa are:\n",
        "     Example demonstrating uniqueness and membership testing\n",
        "          my_list = [1, 2, 2, 3, 4, 4, 5]\n",
        "          my_set = set(my_list)\n",
        "\n",
        "          print(my_set) # Output: {1, 2, 3, 4, 5} - Duplicates removed\n",
        "\n",
        "          print(2 in my_set) # Output: True - Fast membership testing\n",
        "          print(6 in my_set) # Output: False\n",
        "\n",
        "          # Example demonstrating set operations\n",
        "          set1 = {1, 2, 3, 4}\n",
        "          set2 = {3, 4, 5, 6}\n",
        "\n",
        "          print(set1.union(set2)) # Output: {1, 2, 3, 4, 5, 6}\n",
        "          print(set1.intersection(set2)) # Output: {3, 4}\n",
        "          print(set1.difference(set2)) # Output: {1, 2}\n",
        "\n",
        "6. What is a string in Python, and how is it different from a list?\n",
        "   - A string in Python is a sequence of characters enclosed within single quotes ('...'), double quotes (\"...\"), or triple quotes ('''...''' or \"\"\"...\"\"\"). Strings are immutable, meaning they cannot be changed after creation. Example: my_string = \"Hello, Python!\"\n",
        "   Differences are:\n",
        "   1. Mutability:\n",
        "      Strings are immutable in Python, meaning once a string is created, its characters cannot be changed.\n",
        "      Lists are mutable, meaning you can change elements after the list is created.\n",
        "   2. Element Type:\n",
        "      A string is a sequence of characters, so every element in a string is a character.\n",
        "      A list can contain elements of different data types (e.g., integers, strings, floats, etc.).\n",
        "   3. Strings have several built-in methods designed for text\n",
        "      manipulation. For instance, the upper() method converts all characters in the string to uppercase.\n",
        "      Lists have their own set of methods for manipulating the collection, such as adding items, removing items, or sorting elements.\n",
        "   4. Concatenation:\n",
        "      Strings can be concatenated using the + operator, combining multiple strings into one.\n",
        "      Lists can also be concatenated using the + operator, or by using the extend() method.\n",
        "   5. Memory Efficiency:\n",
        "      Strings are more memory-efficient because they are immutable. Once a string is created, the memory used by that string is fixed and cannot change.\n",
        "      Lists require more memory because they are mutable, and their size can change dynamically. They need extra space to handle changes like adding, removing, or resizing elements.\n",
        "\n",
        "\n",
        "7. How do tuples ensure data integrity in Python?\n",
        "   - Tuples in Python ensure data integrity through their immutability. Once a tuple is created, its elements cannot be modified, added, or removed. This characteristic guarantees that the data stored within a tuple remains constant throughout its lifecycle. Immutability makes tuples suitable for scenarios where data consistency is crucial, such as storing configuration settings, representing fixed records, or using them as keys in dictionaries. By preventing accidental or unauthorized modifications, tuples safeguard data integrity and enhance the reliability of Python programs. Protection in Functions: Tuples help prevent functions from altering the data passed to them, ensuring that the data remains intact.\n",
        "   Use as Dictionary Keys: Due to their immutability, tuples can be used as reliable keys in dictionaries.\n",
        "\n",
        "      Fixed Data Representation: Tuples are ideal for representing fixed collections of data, where modification is not desired.\n",
        "\n",
        "      Memory Efficiency: Tuples offer memory optimizations, ensuring more efficient and consistent data handling.\n",
        "\n",
        "8. What is a hash table, and how does it relate to dictionaries in Python?\n",
        "   - A hash table is a data structure that stores key-value pairs, where each key is unique and mapped to a specific location (index) in an array using a hash function. This allows for efficient retrieval, insertion, and deletion of data. The hash function computes the index based on the key, aiming to distribute keys evenly across the array to minimize collisions (multiple keys mapping to the same index).\n",
        "   In Python, dictionaries are implemented using hash tables. When a key-value pair is added to a dictionary, Python calculates the hash value of the key to determine its position in the underlying hash table. This enables fast lookups, as the hash value can be used to directly access the corresponding value without iterating through the entire data structure. If a collision occurs (two keys have the same hash value), Python uses techniques like separate chaining or open addressing to handle it. Efficiency: Hash tables ensure O(1) average time complexity for operations, making dictionaries fast and efficient for storing and accessing data. Dynamic Resizing:\n",
        "   Python's dictionary implementation also dynamically resizes the hash table as the number of entries grows. When the dictionary becomes too full, it resizes itself to maintain efficiency.\n",
        "\n",
        "9. Can lists contain different data types in Python?\n",
        "   - Yes, lists in Python can contain elements of different data types. Python lists are versatile and do not enforce a strict type constraint on their elements. This means a single list can hold integers, strings, floats, booleans, and even other lists or dictionaries. Example:\n",
        "          my_list = [1, \"hello\", 3.14, True, [1, 2, 3], {\"name\": \"John\"}]\n",
        "          print(my_list)\n",
        "          # Output: [1, \"hello\", 3.14, True, [1, 2, 3], {'name': 'John'}]\n",
        "\n",
        "\n",
        "10. Explain why strings are immutable in Python?\n",
        "    - Efficiency:\n",
        "      Immutability allows Python to perform optimizations such as string interning, where identical string literals are stored only once in memory. This significantly reduces memory usage, especially when dealing with large numbers of strings.\n",
        "      Thread safety:\n",
        "      Immutable strings are inherently thread-safe because their values cannot be changed after creation. This eliminates the risk of race conditions and data corruption in multithreaded environments.\n",
        "      Use as dictionary keys:\n",
        "      Immutable objects, such as strings, can be used as keys in dictionaries. If strings were mutable, their hash values could change, making them unsuitable as dictionary keys.\n",
        "      Security:\n",
        "      Immutability prevents accidental or malicious modification of strings, ensuring data integrity and security.\n",
        "      Simplicity:\n",
        "      Immutability simplifies code and reduces the likelihood of bugs by ensuring that string values remain constant throughout their lifetime.\n",
        "      Example:\n",
        "      # Efficiency: Interning identical strings to save memory\n",
        "      str1 = \"hello\"\n",
        "      str2 = \"hello\"  # Python reuses the memory for the same string\n",
        "      print(str1 is str2)  # Output: True (same memory location)\n",
        "\n",
        "      # Thread safety: Immutable strings are safe in multi-threaded environments\n",
        "      import threading\n",
        "\n",
        "      def print_string():\n",
        "          str3 = \"immutable\"\n",
        "          print(str3)  # Thread-safe because str3 cannot be modified\n",
        "\n",
        "      thread1 = threading.Thread(target=print_string)\n",
        "      thread2 = threading.Thread(target=print_string)\n",
        "\n",
        "      thread1.start()\n",
        "      thread2.start()\n",
        "\n",
        "      thread1.join()\n",
        "      thread2.join()\n",
        "\n",
        "      # Use as dictionary keys: Strings are hashable and immutable, suitable for dictionary keys\n",
        "      my_dict = {\"username\": \"Alice\", \"role\": \"admin\"}\n",
        "      print(my_dict[\"username\"])  # Output: Alice\n",
        "\n",
        "      # Security: Prevents accidental modification\n",
        "      # str1 = \"world\"  # This would raise an error if we tried to modify a string directly\n",
        "      # Since str1 is immutable, it cannot be changed after creation\n",
        "\n",
        "      # Simplicity: Ensures the string value stays constant\n",
        "      str4 = \"constant_value\"\n",
        "      print(str4)  # Output: constant_value\n",
        "\n",
        "11. What advantages do dictionaries offer over lists for certain tasks?\n",
        "    -  Fast Lookup with Keys (O(1) Time Complexity):\n",
        "       Advantage: Dictionaries provide constant-time (O(1)) lookup for values using keys, whereas lists require O(n) time to find an element by value.\n",
        "       Example: Finding a student's grade using their name.\n",
        "       Key-Value Pairing:\n",
        "        Advantage: Dictionaries inherently map keys to values, making them ideal for associating data. Lists lack this direct mapping.\n",
        "\n",
        "        Example: Storing employee IDs and names.\n",
        "       Data Integrity and Uniqueness:\n",
        "        Advantage: Dictionary keys are unique. This feature ensures no duplicate keys, which is useful when you need unique identifiers. Lists do not enforce uniqueness.\n",
        "       Direct Element Access (via Keys):\n",
        "        Advantage: Dictionaries allow direct access to elements via keys, unlike lists where access is by index. This makes dictionaries more intuitive when working with named data.\n",
        "        example:\n",
        "            capitals = {\"France\": \"Paris\", \"Italy\": \"Rome\", \"Japan\": \"Tokyo\"}\n",
        "            print(capitals[\"Japan\"])  # Output: Tokyo\n",
        "       Flexible Data Structures:\n",
        "        Advantage: Dictionaries can hold heterogeneous data types as values and keys (as long as the keys are hashable), while lists generally store a sequence of similar items. Example:\n",
        "              person = {\"name\": \"Alice\", \"age\": 30, \"hobbies\": [\"reading\", \"hiking\"]}\n",
        "              print(person[\"hobbies\"])  # Output: ['reading', 'hiking']\n",
        "       Better for Data with Unique Identifiers:\n",
        "        Advantage: Dictionaries are more suitable for data where each item has a unique identifier or name, while lists are better for ordered collections.\n",
        "              phonebook = {\"John\": \"555-1234\", \"Emily\": \"555-5678\"}\n",
        "              print(phonebook[\"Emily\"])  # Output: 555-5678\n",
        "\n",
        "12. Describe a scenario where using a tuple would be preferable over a list\n",
        "    - Example: Storing Days of the Week (Tuple vs. List)\n",
        "     # Using a tuple for days of the week\n",
        "      days_tuple = (\"Monday\", \"Tuesday\", \"Wednesday\", \"Thursday\", \"Friday\", \"Saturday\", \"Sunday\")\n",
        "\n",
        "      # Using a list for the same purpose\n",
        "      days_list = [\"Monday\", \"Tuesday\", \"Wednesday\", \"Thursday\", \"Friday\", \"Saturday\", \"Sunday\"]\n",
        "\n",
        "      # Trying to modify the tuple (will cause an error)\n",
        "      try:\n",
        "          days_tuple[0] = \"Funday\"\n",
        "      except TypeError as e:\n",
        "          print(\"Tuple Error:\", e)  # Output: 'tuple' object does not support item assignment\n",
        "\n",
        "      # Modifying the list (no error, but unintended change)\n",
        "      days_list[0] = \"Funday\"\n",
        "      print(\"Modified List:\", days_list)  # Output: ['Funday', 'Tuesday', 'Wednesday', ...]\n",
        "\n",
        "      # Checking data integrity\n",
        "      if days_tuple == (\"Monday\", \"Tuesday\", \"Wednesday\", \"Thursday\", \"Friday\", \"Saturday\", \"Sunday\"):\n",
        "          print(\"Tuple is intact and unmodified!\")  # Output: Tuple is intact and unmodified!\n",
        "      else:\n",
        "          print(\"Tuple was changed!\")\n",
        "\n",
        "      if days_list == [\"Monday\", \"Tuesday\", \"Wednesday\", \"Thursday\", \"Friday\", \"Saturday\", \"Sunday\"]:\n",
        "          print(\"List is intact and unmodified!\")\n",
        "      else:\n",
        "          print(\"List was modified!\")  # Output: List was modified!\n",
        "      \n",
        "      Error Prevention:\n",
        "      The tuple raises an error when modification is attempted, which acts as a safeguard.\n",
        "      The list does not raise an error, which may lead to unexpected changes.\n",
        "      Recommended Choice:\n",
        "      When data should be fixed and constant, like days of the week, always use a tuple.\n",
        "      Use a list only when you expect changes or need to dynamically update the data.\n",
        "\n",
        "13. How do sets handle duplicate values in Python?\n",
        "    - Sets in Python are designed to store only unique elements. When a duplicate value is added to a set, it is automatically discarded, and only one instance of the value is retained. This behavior ensures that sets always maintain uniqueness among their elements. If an attempt is made to add an element that already exists within the set, no error will be raised, but the set will remain unchanged.\n",
        "    example:\n",
        "          # Creating a set with duplicate values\n",
        "          my_set = {1, 2, 3, 3, 4, 4, 5}\n",
        "\n",
        "          print(\"Set after removing duplicates:\", my_set)  # Output: {1, 2, 3, 4, 5}\n",
        "\n",
        "          # Adding more duplicates\n",
        "          my_set.add(2)\n",
        "          my_set.add(5)\n",
        "\n",
        "          print(\"Set after adding duplicates again:\", my_set)  # Output: {1, 2, 3, 4, 5}\n",
        "\n",
        "14. How does the “in” keyword work differently for lists and dictionaries?\n",
        "    - Using in with Lists:\n",
        "      The in keyword checks whether the value exists in the list.\n",
        "      It performs a linear search (O(n)), checking each element one by one.\n",
        "      Example:\n",
        "          fruits = [\"apple\", \"banana\", \"cherry\"]\n",
        "          print(\"banana\" in fruits)   # Output: True\n",
        "          print(\"grape\" in fruits)    # Output: False\n",
        "      \n",
        "      Using in with Dictionaries:\n",
        "      The in keyword checks whether the key exists in the dictionary.\n",
        "      It uses hashing (O(1)), making it much faster compared to lists.\n",
        "      Example:\n",
        "      person = {\"name\": \"Alice\", \"age\": 30, \"city\": \"New York\"}\n",
        "      print(\"name\" in person)     # Output: True\n",
        "      print(\"Alice\" in person)    # Output: False\n",
        "\n",
        "15. Can you modify the elements of a tuple? Explain why or why not?\n",
        "    - No, you cannot modify the elements of a tuple because tuples are immutable in Python. Once a tuple is created, its contents cannot be changed.\n",
        "      Why Tuples Are Immutable:\n",
        "      Data Integrity: Immutability ensures the data remains consistent throughout the program.\n",
        "\n",
        "      Hashability: Allows tuples to be used as dictionary keys and stored in sets.\n",
        "\n",
        "      Performance: They are more memory-efficient and faster than lists.\n",
        "   Somehow, If a tuple contains mutable elements (like lists), those nested mutable elements can be modified.\n",
        "   Example:\n",
        "          nested_tup = (1, [2, 3], 4)\n",
        "          nested_tup[1][0] = 99\n",
        "          print(nested_tup)  # Output: (1, [99, 3], 4)\n",
        "\n",
        "16. What is a nested dictionary, and give an example of its use case?\n",
        "    - A nested dictionary in Python is a dictionary where the values are themselves dictionaries. This allows for the creation of a hierarchical structure where data can be organized into multiple levels. A common use case for nested dictionaries is representing complex, multi-layered data.\n",
        "     Example:In an e-commerce application, products can have ID, name, price, and specifications.\n",
        "     # Nested dictionary for product catalog\n",
        "     products = {\n",
        "        \"P001\": {\n",
        "           \"name\": \"Smartphone\",\n",
        "            \"price\": 699,\n",
        "            \"specs\": {\n",
        "             \"brand\": \"TechCo\",\n",
        "             \"model\": \"X100\",\n",
        "             \"storage\": \"128GB\"\n",
        "        }\n",
        "    },\n",
        "      \"P002\": {\n",
        "          \"name\": \"Laptop\",\n",
        "          \"price\": 999,\n",
        "          \"specs\": {\n",
        "              \"brand\": \"TechCo\",\n",
        "              \"model\": \"L500\",\n",
        "              \"ram\": \"16GB\",\n",
        "              \"storage\": \"512GB SSD\"\n",
        "          }\n",
        "      }\n",
        "   }\n",
        "\n",
        "      # Accessing product details\n",
        "      print(\"Product P001 Name:\", products[\"P001\"][\"name\"])  \n",
        "      print(\"Product P002 Brand:\", products[\"P002\"][\"specs\"][\"brand\"])  \n",
        "      print(\"Laptop Price:\", products[\"P002\"][\"price\"])  \n",
        "\n",
        "     Output will be:\n",
        "     Product P001 Name: Smartphone  \n",
        "     Product P002 Brand: TechCo  \n",
        "     Laptop Price: 999  \n",
        "\n",
        "17. Describe the time complexity of accessing elements in a dictionary.\n",
        "    - Accessing an element in a dictionary using its key typically has a time complexity of O(1) on average, meaning it takes constant time, regardless of the dictionary's size. However, in the worst-case scenario, it can degrade to O(n), where n is the number of key-value pairs, if there are many hash collisions. This is beacuse Dictionaries, in most programming languages, are implemented using hash tables. Hash tables use a hash function to map keys to indices in an array (or a similar structure). When you access an element by its key, the hash function quickly determines the potential location of that key-value pair in the array. This lookup is very efficient and takes constant time on average, hence O(1).\n",
        "\n",
        "18. In what situations are lists preferred over dictionaries?\n",
        "    - Lists are preferred when:\n",
        "      Order Matters: Lists maintain the order of elements.\n",
        "      Sequential Data: When storing ordered collections like a series of numbers or names.\n",
        "      Simple Iteration: Easier to iterate when the order is important.\n",
        "      Memory Efficiency: Lists generally consume less memory when storing large volumes of simple data.\n",
        "      For quick data look-ups, configurations, or caches, favor dictionaries. For ordered collections and sequence operations, such as maintaining a stack or queue, lists are more suitable.\n",
        "      Scenario: Storing Student Marks\n",
        "      Using a List:\n",
        "      # Storing marks of 5 students in a list (ordered, indexed)\n",
        "      marks_list = [85, 90, 78, 92, 88]\n",
        "      # Accessing the mark of the third student\n",
        "      print(\"Third student's mark (using list):\", marks_list[2])  # Output: 78\n",
        "\n",
        "      Using a Dictionary:\n",
        "      # Storing marks with student names as keys (unordered, key-based)\n",
        "      marks_dict = {\n",
        "          \"Alice\": 85,\n",
        "          \"Bob\": 90,\n",
        "          \"Charlie\": 78,\n",
        "          \"David\": 92,\n",
        "          \"Eve\": 88\n",
        "      }\n",
        "\n",
        "      # Accessing Charlie's mark\n",
        "      print(\"Charlie's mark (using dictionary):\", marks_dict[\"Charlie\"])  # Output: 78\n",
        "\n",
        "      Why List is Preferred in This Case:\n",
        "      Simple Access: Since students are identified by position rather than name, a list is more straightforward.\n",
        "      Ordered Data: Maintaining the order of marks is important when using indices.\n",
        "      Memory Efficiency: Lists consume less memory when the data structure is simple and does not need keys.\n",
        "\n",
        "19. Why are dictionaries considered unordered, and how does that affect\n",
        "     data retrieval?\n",
        "    - Dictionaries are considered unordered because they do not store elements in a specific sequence.\n",
        "      Prior to Python 3.7, dictionaries did not preserve insertion order.\n",
        "\n",
        "      Since Python 3.7, dictionaries maintain the insertion order, but this is not considered sorted order.\n",
        "\n",
        "      Effect on Data Retrieval:\n",
        "      No Positional Access: You can’t access elements by index as in a list.\n",
        "\n",
        "      Key-Based Access Only: You must use the key to retrieve the value.\n",
        "\n",
        "      Unpredictable Output (Pre-3.7): The order of elements may vary across different executions.\n",
        "\n",
        "      Example:\n",
        "      my_dict = {\"b\": 2, \"a\": 1, \"c\": 3}\n",
        "      print(my_dict)  # Output: {'b': 2, 'a': 1, 'c': 3}  (insertion order preserved in Python 3.7+)\n",
        "\n",
        "20. Explain the difference between a list and a dictionary in terms of    \n",
        "     data retrieval.\n",
        "    - Retrieval Method:\n",
        "        List: Access by index (e.g., list[0]).\n",
        "        Dictionary: Access by key (e.g., dict[\"name\"]).\n",
        "      Retrieval Complexity:\n",
        "        List: O(1) if the index is known.\n",
        "        Dictionary: O(1) on average for key-based access.\n",
        "      Use Case:\n",
        "        List: Suitable for sequential or ordered data.\n",
        "        Dictionary: Ideal for key-value paired data.\n",
        "      Example:\n",
        "        List: names[2] - Accesses the third element.\n",
        "        Dictionary: person[\"age\"] - Accesses the value associated with the key \"age\".\n",
        "\n",
        "      more points:\n",
        "      List: Average time taken to search a value in list takes O[n]. And Average time to delete a certain value from a list takes O[n]. and The order of the elements entered is maintained.\n",
        "      Dictionary: Average time taken to search a key in dictionary takes O[1]. And Average time to delete a certain key from a dictionary takes O[1]. and They are unordered in python 3.6 and below and are ordered in python 3.7 and above.\n",
        "\n",
        "\n",
        "\n",
        "\n",
        "        \n",
        "\n",
        "\n",
        "\n",
        "\n",
        "\n",
        "\n",
        "\n",
        "\n",
        "\n",
        "\n",
        "\n",
        "\n",
        "          \n",
        "\n",
        "\n",
        "\n",
        "\n",
        "\n",
        "\n",
        "     \n",
        "\n",
        "\n",
        "\n",
        "\n",
        "\n",
        "\n",
        "\n",
        "\n",
        "\n",
        "\n",
        "\n",
        "\n",
        "\n",
        "\n",
        "\n",
        "\n",
        "\n",
        "\n",
        "\n",
        "\n",
        "\n",
        "\n",
        "\n",
        "\n",
        "\n",
        "\n",
        "\n",
        "\n",
        "\n",
        "\n",
        "\n",
        "\n",
        "\n",
        "\n",
        "\n",
        "\n",
        "\n",
        "\n",
        "\n",
        "\n"
      ],
      "metadata": {
        "id": "gk-k-7_ZOuF_"
      }
    },
    {
      "cell_type": "code",
      "source": [
        "#1. Write a code to create a string with your name and print it.\n",
        "my_name = \"Siddharth Mohan\"\n",
        "print(my_name)"
      ],
      "metadata": {
        "id": "YPm72u2cZlRS",
        "colab": {
          "base_uri": "https://localhost:8080/"
        },
        "outputId": "1e4cd6a5-3952-4902-de2c-4683f0ade758"
      },
      "execution_count": 1,
      "outputs": [
        {
          "output_type": "stream",
          "name": "stdout",
          "text": [
            "Siddharth Mohan\n"
          ]
        }
      ]
    },
    {
      "cell_type": "code",
      "source": [
        "#2. Write a code to find the length of the string \"Hello World\".\n",
        "length = len(\"Hello World\")\n",
        "print(\"Length of 'Hello World' is:\", length)"
      ],
      "metadata": {
        "colab": {
          "base_uri": "https://localhost:8080/"
        },
        "id": "M7HXjAkbNlSI",
        "outputId": "549fae67-ab88-4974-da0b-55855bfdc5ea"
      },
      "execution_count": 3,
      "outputs": [
        {
          "output_type": "stream",
          "name": "stdout",
          "text": [
            "Length of 'Hello World' is: 11\n"
          ]
        }
      ]
    },
    {
      "cell_type": "code",
      "source": [
        "#3. Write a code to slice the first 3 characters from the string \"Python Programming\"\n",
        "text = \"Python Programming\"\n",
        "first_three = text[:3]\n",
        "print(\"First 3 characters:\", first_three)"
      ],
      "metadata": {
        "colab": {
          "base_uri": "https://localhost:8080/"
        },
        "id": "pjDmeFgyNxJw",
        "outputId": "57fc2087-f151-4770-9d0d-63d71869a20d"
      },
      "execution_count": 4,
      "outputs": [
        {
          "output_type": "stream",
          "name": "stdout",
          "text": [
            "First 3 characters: Pyt\n"
          ]
        }
      ]
    },
    {
      "cell_type": "code",
      "source": [
        "#4. Write a code to convert the string \"hello\" to uppercase.\n",
        "word = \"hello\"\n",
        "res = word.upper()\n",
        "print(res)"
      ],
      "metadata": {
        "colab": {
          "base_uri": "https://localhost:8080/"
        },
        "id": "2ECLCfYsN6tM",
        "outputId": "6668fd01-3b29-4033-9e58-cefd4f2c9aff"
      },
      "execution_count": 6,
      "outputs": [
        {
          "output_type": "stream",
          "name": "stdout",
          "text": [
            "HELLO\n"
          ]
        }
      ]
    },
    {
      "cell_type": "code",
      "source": [
        "#5. Write a code to replace the word \"apple\" with \"orange\" in the string \"I like apple\".\n",
        "text = \"I like apple\"\n",
        "print(\"old text:\",text)\n",
        "new_text = text.replace(\"apple\", \"orange\")\n",
        "print(\"new text: \",new_text)"
      ],
      "metadata": {
        "colab": {
          "base_uri": "https://localhost:8080/"
        },
        "id": "TSLzWfgTOYNn",
        "outputId": "576770f3-734a-46d0-b087-de2de8d0ce54"
      },
      "execution_count": 8,
      "outputs": [
        {
          "output_type": "stream",
          "name": "stdout",
          "text": [
            "old text: I like apple\n",
            "new text:  I like orange\n"
          ]
        }
      ]
    },
    {
      "cell_type": "code",
      "source": [
        "#6. Write a code to create a list with numbers 1 to 5 and print it.\n",
        "my_list = [1, 2, 3, 4, 5]\n",
        "print(my_list)\n"
      ],
      "metadata": {
        "colab": {
          "base_uri": "https://localhost:8080/"
        },
        "id": "INuM4mD_OyjW",
        "outputId": "e13c295e-c6c6-4a99-f4e2-48b4c43f1ee2"
      },
      "execution_count": 9,
      "outputs": [
        {
          "output_type": "stream",
          "name": "stdout",
          "text": [
            "[1, 2, 3, 4, 5]\n"
          ]
        }
      ]
    },
    {
      "cell_type": "code",
      "source": [
        "#7. Write a code to append the number 10 to the list [1, 2, 3, 4].\n",
        "my_list = [1, 2, 3, 4]\n",
        "print(\"old list:\", my_list)\n",
        "my_list.append(10)\n",
        "print(\"new list:\",my_list)\n"
      ],
      "metadata": {
        "colab": {
          "base_uri": "https://localhost:8080/"
        },
        "id": "H8U--CQeO88N",
        "outputId": "5fbd33b1-80b6-48ea-8409-74e4ee121b9d"
      },
      "execution_count": 10,
      "outputs": [
        {
          "output_type": "stream",
          "name": "stdout",
          "text": [
            "old list: [1, 2, 3, 4]\n",
            "new list: [1, 2, 3, 4, 10]\n"
          ]
        }
      ]
    },
    {
      "cell_type": "code",
      "source": [
        "#8. Write a code to remove the number 3 from the list [1, 2, 3, 4, 5].\n",
        "my_list = [1, 2, 3, 4, 5]\n",
        "print(\"old list:\", my_list)\n",
        "my_list.remove(3)\n",
        "print(\"new list:\",my_list)"
      ],
      "metadata": {
        "colab": {
          "base_uri": "https://localhost:8080/"
        },
        "id": "UeahbnHcPS8N",
        "outputId": "1057f7ca-654e-4385-99bf-cb99b2ef5c67"
      },
      "execution_count": 11,
      "outputs": [
        {
          "output_type": "stream",
          "name": "stdout",
          "text": [
            "old list: [1, 2, 3, 4, 5]\n",
            "new list: [1, 2, 4, 5]\n"
          ]
        }
      ]
    },
    {
      "cell_type": "code",
      "source": [
        "#9. Write a code to access the second element in the list ['a', 'b', 'c', 'd'].\n",
        "my_list = ['a', 'b', 'c', 'd']\n",
        "second_element = my_list[1]\n",
        "print(\"Second element:\", second_element)\n",
        "\n"
      ],
      "metadata": {
        "colab": {
          "base_uri": "https://localhost:8080/"
        },
        "id": "wJLxdb9LPaz2",
        "outputId": "2479efa1-edb6-44fb-e464-83c89473ac7e"
      },
      "execution_count": 12,
      "outputs": [
        {
          "output_type": "stream",
          "name": "stdout",
          "text": [
            "Second element: b\n"
          ]
        }
      ]
    },
    {
      "cell_type": "code",
      "source": [
        "#10. Write a code to reverse the list [10, 20, 30, 40, 50].\n",
        "my_list = [10, 20, 30, 40, 50]\n",
        "print(\"old list:\", my_list)\n",
        "my_list.reverse()\n",
        "print(\"new list:\",my_list)\n",
        "print(\"without using the function\")\n",
        "my_list = [10, 20, 30, 40, 50]\n",
        "reversed_list = []\n",
        "for i in range(len(my_list) - 1, -1, -1):\n",
        "    reversed_list.append(my_list[i])\n",
        "\n",
        "print(\"Reversed list:\", reversed_list)"
      ],
      "metadata": {
        "colab": {
          "base_uri": "https://localhost:8080/"
        },
        "id": "hGUgKFNlPqtI",
        "outputId": "d419f2b8-2829-4418-b269-c661941eeda2"
      },
      "execution_count": 16,
      "outputs": [
        {
          "output_type": "stream",
          "name": "stdout",
          "text": [
            "old list: [10, 20, 30, 40, 50]\n",
            "new list: [50, 40, 30, 20, 10]\n",
            "without using the function\n",
            "Reversed list: [50, 40, 30, 20, 10]\n"
          ]
        }
      ]
    },
    {
      "cell_type": "code",
      "source": [
        "#11. Write a code to create a tuple with the elements 100, 200, 300 and print it.\n",
        "my_tuple = (100, 200, 300)\n",
        "print(my_tuple)"
      ],
      "metadata": {
        "colab": {
          "base_uri": "https://localhost:8080/"
        },
        "id": "V4N98BL1QQ5E",
        "outputId": "adca8b09-f18e-472a-e198-42ac1df84f53"
      },
      "execution_count": 17,
      "outputs": [
        {
          "output_type": "stream",
          "name": "stdout",
          "text": [
            "(100, 200, 300)\n"
          ]
        }
      ]
    },
    {
      "cell_type": "code",
      "source": [
        "#12. Write a code to access the second-to-last element of the tuple ('red', 'green', 'blue', 'yellow').\n",
        "# Given tuple\n",
        "colors = ('red', 'green', 'blue', 'yellow')\n",
        "second_to_last = None\n",
        "for i in range(len(colors)):\n",
        "    if i == len(colors) - 2:\n",
        "        second_to_last = colors[i]\n",
        "\n",
        "print(\"Second-to-last element:\", second_to_last)  # Output: blue\n"
      ],
      "metadata": {
        "colab": {
          "base_uri": "https://localhost:8080/"
        },
        "id": "lBBE-_l1RItY",
        "outputId": "f593fef2-3854-44b3-cc42-b9f679ea0f61"
      },
      "execution_count": 21,
      "outputs": [
        {
          "output_type": "stream",
          "name": "stdout",
          "text": [
            "Second-to-last element: blue\n"
          ]
        }
      ]
    },
    {
      "cell_type": "code",
      "source": [
        "#13. Write a code to find the minimum number in the tuple (10, 20, 5, 15).\n",
        "# numbers = (10, 20, 5, 15)\n",
        "# min_number = min(numbers)\n",
        "# print(min_number)\n",
        "numbers = (10, 20, 5, 15)\n",
        "min_number = numbers[0]\n",
        "for num in numbers:\n",
        "    if num < min_number:\n",
        "        min_number = num\n",
        "\n",
        "print(\"Minimum number:\", min_number)\n"
      ],
      "metadata": {
        "colab": {
          "base_uri": "https://localhost:8080/"
        },
        "id": "D2p4aBlSRPFQ",
        "outputId": "a6ba3a3b-3906-44ab-ebf7-5d9515603ab0"
      },
      "execution_count": 24,
      "outputs": [
        {
          "output_type": "stream",
          "name": "stdout",
          "text": [
            "Minimum number: 5\n"
          ]
        }
      ]
    },
    {
      "cell_type": "code",
      "source": [
        "#14. Write a code to find the index of the element \"cat\" in the tuple ('dog', 'cat', 'rabbit').\n",
        "animals = ('dog', 'cat', 'rabbit')\n",
        "index_of_cat = animals.index('cat')\n",
        "print(index_of_cat)\n",
        "# animals = ('dog', 'cat', 'rabbit')\n",
        "# index_of_cat = -1  # -1 indicates not found\n",
        "# for i in range(len(animals)):\n",
        "#     if animals[i] == \"cat\":\n",
        "#         index_of_cat = i\n",
        "#         break  # Exit the loop once found\n",
        "\n",
        "# print(\"Index of 'cat':\", index_of_cat)\n"
      ],
      "metadata": {
        "colab": {
          "base_uri": "https://localhost:8080/"
        },
        "id": "DmBtQ-wKRmVK",
        "outputId": "30987441-3a4d-44b1-bccd-78cd2ddd4b40"
      },
      "execution_count": 25,
      "outputs": [
        {
          "output_type": "stream",
          "name": "stdout",
          "text": [
            "1\n"
          ]
        }
      ]
    },
    {
      "cell_type": "code",
      "source": [
        "#15. Write a code to create a tuple containing three different fruits and check if \"kiwi\" is in it.\n",
        "\n",
        "fruits = ('apple', 'banana', 'cherry')\n",
        "is_kiwi_in_fruits = 'kiwi' in fruits\n",
        "print(is_kiwi_in_fruits)  # Output: False\n",
        "\n",
        "# fruits = (\"apple\", \"banana\", \"cherry\")\n",
        "# if \"kiwi\" in fruits:\n",
        "#     print(\"kiwi is in the tuple\")\n",
        "# else:\n",
        "#     print(\"kiwi is not in the tuple\")\n"
      ],
      "metadata": {
        "colab": {
          "base_uri": "https://localhost:8080/"
        },
        "id": "aVxEPST5WEjB",
        "outputId": "e18a69bc-97cd-4259-a123-f21b5ef2998a"
      },
      "execution_count": 28,
      "outputs": [
        {
          "output_type": "stream",
          "name": "stdout",
          "text": [
            "False\n"
          ]
        }
      ]
    },
    {
      "cell_type": "code",
      "source": [
        "#16. Write a code to create a set with the elements 'a', 'b', 'c' and print it.\n",
        "my_set = {'a', 'b', 'c'}\n",
        "print(\"set is: \",my_set)\n"
      ],
      "metadata": {
        "colab": {
          "base_uri": "https://localhost:8080/"
        },
        "id": "KmpzhAAkWWg-",
        "outputId": "a034fab9-a252-4a62-92f3-2b2092273538"
      },
      "execution_count": 31,
      "outputs": [
        {
          "output_type": "stream",
          "name": "stdout",
          "text": [
            "set is:  {'a', 'b', 'c'}\n"
          ]
        }
      ]
    },
    {
      "cell_type": "code",
      "source": [
        "#17. Write a code to clear all elements from the set {1, 2, 3, 4, 5}.\n",
        "my_set = {1, 2, 3, 4, 5}\n",
        "print(\"old set:\",my_set)\n",
        "my_set.clear()\n",
        "print(\"new set:\",my_set)\n",
        "print(\"manual poping:\")\n",
        "my_set1 = {1, 2, 3, 4, 5}\n",
        "\n",
        "# Manually removing all elements using a loop\n",
        "while my_set1:\n",
        "    element = my_set1.pop()  # Remove an arbitrary element\n",
        "    print(f\"Removed: {element}\")\n",
        "\n",
        "print(\"Cleared set:\", my_set1)\n"
      ],
      "metadata": {
        "colab": {
          "base_uri": "https://localhost:8080/"
        },
        "id": "B2_nk0D1WuJM",
        "outputId": "a3888d68-94cc-4512-cfca-6e09c518cfbe"
      },
      "execution_count": 35,
      "outputs": [
        {
          "output_type": "stream",
          "name": "stdout",
          "text": [
            "old set: {1, 2, 3, 4, 5}\n",
            "new set: set()\n",
            "manual poping:\n",
            "Removed: 1\n",
            "Removed: 2\n",
            "Removed: 3\n",
            "Removed: 4\n",
            "Removed: 5\n",
            "Cleared set: set()\n"
          ]
        }
      ]
    },
    {
      "cell_type": "code",
      "source": [
        "#18. Write a code to remove the element 4 from the set {1, 2, 3, 4}.\n",
        "my_set = {1, 2, 3, 4}\n",
        "my_set.remove(4)\n",
        "print(my_set)\n"
      ],
      "metadata": {
        "colab": {
          "base_uri": "https://localhost:8080/"
        },
        "id": "Yt3CL0UCXMXI",
        "outputId": "6ca6606b-6153-4315-af99-79ce94227214"
      },
      "execution_count": 36,
      "outputs": [
        {
          "output_type": "stream",
          "name": "stdout",
          "text": [
            "{1, 2, 3}\n"
          ]
        }
      ]
    },
    {
      "cell_type": "code",
      "source": [
        "#19. Write a code to find the union of two sets {1, 2, 3} and {3, 4, 5}.\n",
        "set1 = {1, 2, 3}\n",
        "set2 = {3, 4, 5}\n",
        "union_set = set1.union(set2) #or set1 | set2\n",
        "print(\"Union of set1 and set2:\", union_set)"
      ],
      "metadata": {
        "colab": {
          "base_uri": "https://localhost:8080/"
        },
        "id": "7KH9zRZpXX8X",
        "outputId": "faf07bd7-5edb-4f29-f752-842f47e79a71"
      },
      "execution_count": 37,
      "outputs": [
        {
          "output_type": "stream",
          "name": "stdout",
          "text": [
            "Union of set1 and set2: {1, 2, 3, 4, 5}\n"
          ]
        }
      ]
    },
    {
      "cell_type": "code",
      "source": [
        "#20. Write a code to find the intersection of two sets {1, 2, 3} and {2, 3, 4}.\n",
        "set1 = {1, 2, 3}\n",
        "set2 = {2, 3, 4}\n",
        "intersection_set = set1.intersection(set2) #set1 & set2\n",
        "print(\"Intersection of set1 and set2:\", intersection_set)"
      ],
      "metadata": {
        "colab": {
          "base_uri": "https://localhost:8080/"
        },
        "id": "p3_fW7kFXrEm",
        "outputId": "620e105a-0dc2-4a40-ad2b-fce84cadf3bf"
      },
      "execution_count": 38,
      "outputs": [
        {
          "output_type": "stream",
          "name": "stdout",
          "text": [
            "Intersection of set1 and set2: {2, 3}\n"
          ]
        }
      ]
    },
    {
      "cell_type": "code",
      "source": [
        "#21. Write a code to create a dictionary with the keys \"name\", \"age\", and \"city\", and print it\n",
        "person = {\n",
        "    \"name\": \"Alice\",\n",
        "    \"age\": 30,\n",
        "    \"city\": \"New York\"\n",
        "}\n",
        "print(person)"
      ],
      "metadata": {
        "colab": {
          "base_uri": "https://localhost:8080/"
        },
        "id": "A_I87f9gYCVg",
        "outputId": "a4a9f5d0-f7fa-4ba3-dad5-c02e337111eb"
      },
      "execution_count": 40,
      "outputs": [
        {
          "output_type": "stream",
          "name": "stdout",
          "text": [
            "{'name': 'Alice', 'age': 30, 'city': 'New York'}\n"
          ]
        }
      ]
    },
    {
      "cell_type": "code",
      "source": [
        "#22. Write a code to add a new key-value pair \"country\": \"USA\" to the dictionary {'name': 'John', 'age': 25}.\n",
        "person = {'name': 'John', 'age': 25}\n",
        "print(\"old dictionary:\",person)\n",
        "person[\"country\"] = \"USA\"\n",
        "print(\"new dictionary:\",person)"
      ],
      "metadata": {
        "colab": {
          "base_uri": "https://localhost:8080/"
        },
        "id": "WRuvEcsSYkzp",
        "outputId": "85094e16-1294-466c-fcd3-df3972118f87"
      },
      "execution_count": 41,
      "outputs": [
        {
          "output_type": "stream",
          "name": "stdout",
          "text": [
            "old dictionary: {'name': 'John', 'age': 25}\n",
            "new dictionary: {'name': 'John', 'age': 25, 'country': 'USA'}\n"
          ]
        }
      ]
    },
    {
      "cell_type": "code",
      "source": [
        "#23. Write a code to access the value associated with the key \"name\" in the dictionary {'name': 'Alice', 'age': 30}.\n",
        "person = {'name': 'Alice', 'age': 30}\n",
        "name_value = person[\"name\"]\n",
        "print(\"Value associated with 'name':\", name_value)"
      ],
      "metadata": {
        "colab": {
          "base_uri": "https://localhost:8080/"
        },
        "id": "07WD4MPtYuav",
        "outputId": "cabc9dca-79d4-4ea7-e92b-0ba0bb2063cb"
      },
      "execution_count": 42,
      "outputs": [
        {
          "output_type": "stream",
          "name": "stdout",
          "text": [
            "Value associated with 'name': Alice\n"
          ]
        }
      ]
    },
    {
      "cell_type": "code",
      "source": [
        "#24. Write a code to remove the key \"age\" from the dictionary {'name': 'Bob', 'age': 22, 'city': 'New York'}.\n",
        "person = {'name': 'Bob', 'age': 22, 'city': 'New York'}\n",
        "print(\"old dictionary:\",person)\n",
        "del person[\"age\"]\n",
        "print(\"new dictionary:\",person)"
      ],
      "metadata": {
        "colab": {
          "base_uri": "https://localhost:8080/"
        },
        "id": "LedmT6iuY0KD",
        "outputId": "d831ce25-8ee1-4bcb-91cc-c1f3774781d6"
      },
      "execution_count": 43,
      "outputs": [
        {
          "output_type": "stream",
          "name": "stdout",
          "text": [
            "old dictionary: {'name': 'Bob', 'age': 22, 'city': 'New York'}\n",
            "new dictionary: {'name': 'Bob', 'city': 'New York'}\n"
          ]
        }
      ]
    },
    {
      "cell_type": "code",
      "source": [
        "#25. Write a code to check if the key \"city\" exists in the dictionary {'name': 'Alice', 'city': 'Paris'}.\n",
        "person = {'name': 'Alice', 'city': 'Paris'}\n",
        "if \"city\" in person:\n",
        "    print(\"The key 'city' exists in the dictionary.\")\n",
        "else:\n",
        "    print(\"The key 'city' does not exist in the dictionary.\")"
      ],
      "metadata": {
        "colab": {
          "base_uri": "https://localhost:8080/"
        },
        "id": "wYB4i2sIY8iv",
        "outputId": "60a14025-b85b-4d2d-8314-b0bcb0020e86"
      },
      "execution_count": 44,
      "outputs": [
        {
          "output_type": "stream",
          "name": "stdout",
          "text": [
            "The key 'city' exists in the dictionary.\n"
          ]
        }
      ]
    },
    {
      "cell_type": "code",
      "source": [
        "#26. Write a code to create a list, a tuple, and a dictionary, and print them all.\n",
        "my_list = [1, 2, 3, 4, 5]\n",
        "my_tuple = (10, 20, 30, 40, 50)\n",
        "my_dictionary = {\n",
        "    \"name\": \"Alice\",\n",
        "    \"age\": 30,\n",
        "    \"city\": \"New York\"\n",
        "}\n",
        "\n",
        "print(\"List:\", my_list)\n",
        "print(\"Tuple:\", my_tuple)\n",
        "print(\"Dictionary:\", my_dictionary)"
      ],
      "metadata": {
        "colab": {
          "base_uri": "https://localhost:8080/"
        },
        "id": "G7pk1U17ZDLm",
        "outputId": "4714a3a5-86ae-42d4-cf89-d9603ccb08ce"
      },
      "execution_count": 49,
      "outputs": [
        {
          "output_type": "stream",
          "name": "stdout",
          "text": [
            "List: [1, 2, 3, 4, 5]\n",
            "Tuple: (10, 20, 30, 40, 50)\n",
            "Dictionary: {'name': 'Alice', 'age': 30, 'city': 'New York'}\n"
          ]
        }
      ]
    },
    {
      "cell_type": "code",
      "source": [
        "#27.Write a code to create a list of 5 random numbers between 1 and 100, sort it in ascending order, and print the\n",
        "# result.(replaced)\n",
        "import random\n",
        "\n",
        "# Creating a list of random numbers\n",
        "random_numbers = [random.randint(1, 100) for _ in range(5)]\n",
        "print(\"random numbers are: \", random_numbers)\n",
        "# Sorting the list\n",
        "random_numbers.sort()\n",
        "\n",
        "print(\"Sorted List:\", random_numbers)\n"
      ],
      "metadata": {
        "colab": {
          "base_uri": "https://localhost:8080/"
        },
        "id": "nD9Rnwh9ZbqC",
        "outputId": "2a5760fe-98b2-44c7-8a37-6a7caac7706b"
      },
      "execution_count": 51,
      "outputs": [
        {
          "output_type": "stream",
          "name": "stdout",
          "text": [
            "random numbers are:  [89, 20, 97, 31, 76]\n",
            "Sorted List: [20, 31, 76, 89, 97]\n"
          ]
        }
      ]
    },
    {
      "cell_type": "code",
      "source": [
        "#28.Write a code to create a list with strings and print the element at the third index.\n",
        "\n",
        "n = int(input(\"Enter the number of strings you want to add: \"))\n",
        "\n",
        "string_list = []\n",
        "for i in range(n):\n",
        "    string = input(f\"Enter string {i+1}: \")\n",
        "    string_list.append(string)\n",
        "if len(string_list) > 3:\n",
        "    print(\"Element at the third index:\", string_list[3])\n",
        "else:\n",
        "    print(\"The list does not have enough elements to access the third index.\")\n"
      ],
      "metadata": {
        "colab": {
          "base_uri": "https://localhost:8080/"
        },
        "id": "YwUM31a5aNJM",
        "outputId": "077366b8-066a-46e1-9d9d-c89974b4a9d7"
      },
      "execution_count": 54,
      "outputs": [
        {
          "output_type": "stream",
          "name": "stdout",
          "text": [
            "Enter the number of strings you want to add: 4\n",
            "Enter string 1: apple\n",
            "Enter string 2: mango\n",
            "Enter string 3: peach\n",
            "Enter string 4: kiwi\n",
            "Element at the third index: kiwi\n"
          ]
        }
      ]
    },
    {
      "cell_type": "code",
      "source": [
        "#29.Write a code to combine two dictionaries into one and print the result.\n",
        "dict1 = {'a': 1, 'b': 2}\n",
        "dict2 = {'c': 3, 'd': 4}\n",
        "combined_dict = {**dict1, **dict2}\n",
        "print(\"Combined Dictionary:\", combined_dict)"
      ],
      "metadata": {
        "colab": {
          "base_uri": "https://localhost:8080/"
        },
        "id": "p7MUNVpKbCVJ",
        "outputId": "fb80c746-0472-4411-dd28-1576e8c0fdb6"
      },
      "execution_count": 55,
      "outputs": [
        {
          "output_type": "stream",
          "name": "stdout",
          "text": [
            "Combined Dictionary: {'a': 1, 'b': 2, 'c': 3, 'd': 4}\n"
          ]
        }
      ]
    },
    {
      "cell_type": "code",
      "source": [
        "#30. Write a code to convert a list of strings into a set.\n",
        "n = int(input(\"Enter the number of strings you want to add to the list: \"))\n",
        "string_list = []\n",
        "for i in range(n):\n",
        "    string = input(f\"Enter string {i+1}: \")\n",
        "    string_list.append(string)\n",
        "string_set = set(string_list)\n",
        "# Print the original list and the resulting set\n",
        "print(\"Original list:\", string_list)\n",
        "print(\"Set from list:\", string_set)\n"
      ],
      "metadata": {
        "colab": {
          "base_uri": "https://localhost:8080/"
        },
        "id": "3_PbtMsebdBv",
        "outputId": "5936ac19-2139-4579-d83c-d1e5934fe86b"
      },
      "execution_count": 56,
      "outputs": [
        {
          "output_type": "stream",
          "name": "stdout",
          "text": [
            "Enter the number of strings you want to add to the list: 3\n",
            "Enter string 1: a\n",
            "Enter string 2: b\n",
            "Enter string 3: c\n",
            "Original list: ['a', 'b', 'c']\n",
            "Set from list: {'a', 'b', 'c'}\n"
          ]
        }
      ]
    }
  ]
}